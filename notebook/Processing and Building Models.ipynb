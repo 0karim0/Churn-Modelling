{
 "cells": [
  {
   "cell_type": "code",
   "execution_count": 35,
   "metadata": {},
   "outputs": [],
   "source": [
    "import os\n",
    "import joblib\n",
    "\n",
    "import pandas as pd\n",
    "import numpy as np\n",
    "\n",
    "import seaborn as sns\n",
    "import matplotlib.pyplot as plt\n",
    "\n",
    "from imblearn.over_sampling import SMOTE\n",
    "\n",
    "from sklearn.utils.class_weight import compute_class_weight\n",
    "from sklearn.feature_selection import f_classif, chi2\n",
    "from sklearn.model_selection import train_test_split, GridSearchCV, RandomizedSearchCV\n",
    "from sklearn.impute import SimpleImputer\n",
    "from sklearn.pipeline import Pipeline\n",
    "from sklearn.compose import ColumnTransformer\n",
    "from sklearn.preprocessing import OneHotEncoder, StandardScaler, OrdinalEncoder\n",
    "from sklearn.metrics import f1_score, confusion_matrix, classification_report\n",
    "from sklearn.linear_model import LogisticRegression\n",
    "from sklearn.ensemble import RandomForestClassifier\n",
    "import xgboost as xgb"
   ]
  },
  {
   "cell_type": "code",
   "execution_count": 36,
   "metadata": {},
   "outputs": [
    {
     "data": {
      "text/html": [
       "<div>\n",
       "<style scoped>\n",
       "    .dataframe tbody tr th:only-of-type {\n",
       "        vertical-align: middle;\n",
       "    }\n",
       "\n",
       "    .dataframe tbody tr th {\n",
       "        vertical-align: top;\n",
       "    }\n",
       "\n",
       "    .dataframe thead th {\n",
       "        text-align: right;\n",
       "    }\n",
       "</style>\n",
       "<table border=\"1\" class=\"dataframe\">\n",
       "  <thead>\n",
       "    <tr style=\"text-align: right;\">\n",
       "      <th></th>\n",
       "      <th>RowNumber</th>\n",
       "      <th>CustomerId</th>\n",
       "      <th>Surname</th>\n",
       "      <th>CreditScore</th>\n",
       "      <th>Geography</th>\n",
       "      <th>Gender</th>\n",
       "      <th>Age</th>\n",
       "      <th>Tenure</th>\n",
       "      <th>Balance</th>\n",
       "      <th>NumOfProducts</th>\n",
       "      <th>HasCrCard</th>\n",
       "      <th>IsActiveMember</th>\n",
       "      <th>EstimatedSalary</th>\n",
       "      <th>Exited</th>\n",
       "    </tr>\n",
       "  </thead>\n",
       "  <tbody>\n",
       "    <tr>\n",
       "      <th>0</th>\n",
       "      <td>1</td>\n",
       "      <td>15634602</td>\n",
       "      <td>Hargrave</td>\n",
       "      <td>619</td>\n",
       "      <td>France</td>\n",
       "      <td>Female</td>\n",
       "      <td>42</td>\n",
       "      <td>2</td>\n",
       "      <td>0.00</td>\n",
       "      <td>1</td>\n",
       "      <td>1</td>\n",
       "      <td>1</td>\n",
       "      <td>101348.88</td>\n",
       "      <td>1</td>\n",
       "    </tr>\n",
       "    <tr>\n",
       "      <th>1</th>\n",
       "      <td>2</td>\n",
       "      <td>15647311</td>\n",
       "      <td>Hill</td>\n",
       "      <td>608</td>\n",
       "      <td>Spain</td>\n",
       "      <td>Female</td>\n",
       "      <td>41</td>\n",
       "      <td>1</td>\n",
       "      <td>83807.86</td>\n",
       "      <td>1</td>\n",
       "      <td>0</td>\n",
       "      <td>1</td>\n",
       "      <td>112542.58</td>\n",
       "      <td>0</td>\n",
       "    </tr>\n",
       "    <tr>\n",
       "      <th>2</th>\n",
       "      <td>3</td>\n",
       "      <td>15619304</td>\n",
       "      <td>Onio</td>\n",
       "      <td>502</td>\n",
       "      <td>France</td>\n",
       "      <td>Female</td>\n",
       "      <td>42</td>\n",
       "      <td>8</td>\n",
       "      <td>159660.80</td>\n",
       "      <td>3</td>\n",
       "      <td>1</td>\n",
       "      <td>0</td>\n",
       "      <td>113931.57</td>\n",
       "      <td>1</td>\n",
       "    </tr>\n",
       "    <tr>\n",
       "      <th>3</th>\n",
       "      <td>4</td>\n",
       "      <td>15701354</td>\n",
       "      <td>Boni</td>\n",
       "      <td>699</td>\n",
       "      <td>France</td>\n",
       "      <td>Female</td>\n",
       "      <td>39</td>\n",
       "      <td>1</td>\n",
       "      <td>0.00</td>\n",
       "      <td>2</td>\n",
       "      <td>0</td>\n",
       "      <td>0</td>\n",
       "      <td>93826.63</td>\n",
       "      <td>0</td>\n",
       "    </tr>\n",
       "    <tr>\n",
       "      <th>4</th>\n",
       "      <td>5</td>\n",
       "      <td>15737888</td>\n",
       "      <td>Mitchell</td>\n",
       "      <td>850</td>\n",
       "      <td>Spain</td>\n",
       "      <td>Female</td>\n",
       "      <td>43</td>\n",
       "      <td>2</td>\n",
       "      <td>125510.82</td>\n",
       "      <td>1</td>\n",
       "      <td>1</td>\n",
       "      <td>1</td>\n",
       "      <td>79084.10</td>\n",
       "      <td>0</td>\n",
       "    </tr>\n",
       "  </tbody>\n",
       "</table>\n",
       "</div>"
      ],
      "text/plain": [
       "   RowNumber  CustomerId   Surname  CreditScore Geography  Gender  Age  \\\n",
       "0          1    15634602  Hargrave          619    France  Female   42   \n",
       "1          2    15647311      Hill          608     Spain  Female   41   \n",
       "2          3    15619304      Onio          502    France  Female   42   \n",
       "3          4    15701354      Boni          699    France  Female   39   \n",
       "4          5    15737888  Mitchell          850     Spain  Female   43   \n",
       "\n",
       "   Tenure    Balance  NumOfProducts  HasCrCard  IsActiveMember  \\\n",
       "0       2       0.00              1          1               1   \n",
       "1       1   83807.86              1          0               1   \n",
       "2       8  159660.80              3          1               0   \n",
       "3       1       0.00              2          0               0   \n",
       "4       2  125510.82              1          1               1   \n",
       "\n",
       "   EstimatedSalary  Exited  \n",
       "0        101348.88       1  \n",
       "1        112542.58       0  \n",
       "2        113931.57       1  \n",
       "3         93826.63       0  \n",
       "4         79084.10       0  "
      ]
     },
     "execution_count": 36,
     "metadata": {},
     "output_type": "execute_result"
    }
   ],
   "source": [
    "DATA_PATH = os.path.join(os.getcwd(), '..', 'dataset', 'Churn_Modelling.csv')\n",
    "df = pd.read_csv(DATA_PATH)\n",
    "df.head()"
   ]
  },
  {
   "cell_type": "code",
   "execution_count": 37,
   "metadata": {},
   "outputs": [],
   "source": [
    "df.columns = df.columns.str.strip().str.replace(' ', '_')"
   ]
  },
  {
   "cell_type": "code",
   "execution_count": 38,
   "metadata": {},
   "outputs": [],
   "source": [
    "# Drop first 3 features\n",
    "df.drop(columns=['RowNumber', 'CustomerId', 'Surname'], axis=1, inplace=True)"
   ]
  },
  {
   "cell_type": "markdown",
   "metadata": {},
   "source": [
    "# Split to train & test"
   ]
  },
  {
   "cell_type": "code",
   "execution_count": 39,
   "metadata": {},
   "outputs": [],
   "source": [
    "# to featueres & target \n",
    "X = df.drop(columns=['Exited'], axis=1)\n",
    "y = df['Exited']\n",
    "\n",
    "# Split to train and test\n",
    "X_train, X_test, y_train, y_test = train_test_split(X, y, test_size=0.2, shuffle=True, random_state=45, stratify=y)\n"
   ]
  },
  {
   "cell_type": "code",
   "execution_count": 40,
   "metadata": {},
   "outputs": [
    {
     "name": "stdout",
     "output_type": "stream",
     "text": [
      "X_train.shape \t (8000, 10)\n",
      "y_train.shape \t (8000,)\n",
      "******************************\n",
      "X_test.shape \t (2000, 10)\n",
      "y_test.shape \t (2000,)\n"
     ]
    }
   ],
   "source": [
    "# Check shapes\n",
    "print('X_train.shape \\t', X_train.shape)\n",
    "print('y_train.shape \\t', y_train.shape)\n",
    "print('***'*10)\n",
    "print('X_test.shape \\t', X_test.shape)\n",
    "print('y_test.shape \\t', y_test.shape)"
   ]
  },
  {
   "cell_type": "code",
   "execution_count": 41,
   "metadata": {},
   "outputs": [
    {
     "data": {
      "image/png": "[encoded data removed]",
      "text/plain": [
       "<Figure size 2000x400 with 3 Axes>"
      ]
     },
     "metadata": {},
     "output_type": "display_data"
    }
   ],
   "source": [
    "# plottting to check\n",
    "fig, ax = plt.subplots(1, 3, figsize=(20, 4))\n",
    "\n",
    "# Whole dataset\n",
    "plt.sca(ax[0])\n",
    "sns.countplot(x=y)\n",
    "plt.title('For Whole Datast')\n",
    "plt.ylabel('Count')\n",
    "plt.xticks(ticks=[0, 1], labels=['No', 'Yes'])\n",
    "\n",
    "# train\n",
    "plt.sca(ax[1])\n",
    "sns.countplot(x=y_train)\n",
    "plt.title('For Training Datast')\n",
    "plt.ylabel('')\n",
    "plt.xticks(ticks=[0, 1], labels=['No', 'Yes'])\n",
    "\n",
    "# test\n",
    "plt.sca(ax[2])\n",
    "sns.countplot(x=y_test)\n",
    "plt.title('For Testing Datast')\n",
    "plt.ylabel('')\n",
    "plt.xticks(ticks=[0, 1], labels=['No', 'Yes'])\n",
    "plt.show()"
   ]
  },
  {
   "cell_type": "markdown",
   "metadata": {},
   "source": [
    "# Feature Selection & Preporcessing"
   ]
  },
  {
   "cell_type": "code",
   "execution_count": 42,
   "metadata": {},
   "outputs": [],
   "source": [
    "# slice cols\n",
    "num_cols = ['Age', 'CreditScore', 'Balance', 'EstimatedSalary']\n",
    "categ_cols = ['Gender', 'Geography']\n",
    "ready_cols = list(set(X_train.columns.tolist()) - set(num_cols) - set(categ_cols))"
   ]
  },
  {
   "cell_type": "code",
   "execution_count": 43,
   "metadata": {},
   "outputs": [
    {
     "data": {
      "text/plain": [
       "array([4.53937410e-151, 9.93415956e-002, 4.93061528e-027, 3.77885631e-001])"
      ]
     },
     "execution_count": 43,
     "metadata": {},
     "output_type": "execute_result"
    }
   ],
   "source": [
    "# Numerical cols (num_cols) & Target cols --> ANOVA\n",
    "_, p_val = f_classif(X=X_train[num_cols], y=y_train)\n",
    "p_val   # All features p-value less than 0.05 --> Reject H0 --> There is an asscociation"
   ]
  },
  {
   "cell_type": "code",
   "execution_count": 44,
   "metadata": {},
   "outputs": [
    {
     "data": {
      "text/plain": [
       "array([2.10648846e-11, 1.19256538e-03])"
      ]
     },
     "execution_count": 44,
     "metadata": {},
     "output_type": "execute_result"
    }
   ],
   "source": [
    "# Categorical cols (categ_cols) & Target cols --> chi2\n",
    "_, p_val = chi2(X=OrdinalEncoder().fit_transform(X_train[categ_cols]), y=y_train)\n",
    "p_val  # All features p-value less than 0.05 --> Reject H0 --> There is an asscociation"
   ]
  },
  {
   "cell_type": "code",
   "execution_count": 45,
   "metadata": {},
   "outputs": [
    {
     "data": {
      "text/plain": [
       "array([1.37949728e-01, 6.52077590e-02, 9.69193084e-01, 2.05442478e-21])"
      ]
     },
     "execution_count": 45,
     "metadata": {},
     "output_type": "execute_result"
    }
   ],
   "source": [
    "# Ready cols (ready_cols) & Target cols --> chi2\n",
    "_, p_val = chi2(X=X_train[ready_cols], y=y_train)\n",
    "p_val  # All features p-value less than 0.05 --> Reject H0 --> There is an asscociation"
   ]
  },
  {
   "cell_type": "code",
   "execution_count": 46,
   "metadata": {},
   "outputs": [],
   "source": [
    "# Pipeline\n",
    "\n",
    "# Numerical: num_cols --> Imputing using median, and standardscaler\n",
    "# Categorical: categ_cols ---> Imputing using mode, and OHE\n",
    "# Ready_cols ---> Imputing mode\n",
    "\n",
    "\n",
    "# For Numerical\n",
    "num_pipeline = Pipeline([\n",
    "    ('imputer', SimpleImputer(strategy='median')),\n",
    "    ('scaler', StandardScaler())\n",
    "])\n",
    "\n",
    "# For Categorical\n",
    "categ_pipeline = Pipeline([\n",
    "    ('imputer', SimpleImputer(strategy='most_frequent')),\n",
    "    ('ohe', OneHotEncoder(sparse_output=False, drop='first'))\n",
    "])\n",
    "\n",
    "# For Ready cols\n",
    "ready_pipeline = Pipeline([\n",
    "    ('imputer', SimpleImputer(strategy='most_frequent')),\n",
    "])\n",
    "\n",
    "# Combine all\n",
    "preprocessor = ColumnTransformer(transformers=[\n",
    "    ('numerical', num_pipeline, num_cols),\n",
    "    ('categorical', categ_pipeline, categ_cols),\n",
    "    ('ready', ready_pipeline, ready_cols)\n",
    "])\n",
    "\n",
    "# Apply to train and test\n",
    "X_train_final = preprocessor.fit_transform(X_train)\n",
    "X_test_final = preprocessor.transform(X_test)"
   ]
  },
  {
   "cell_type": "code",
   "execution_count": 47,
   "metadata": {},
   "outputs": [
    {
     "data": {
      "text/plain": [
       "((8000, 11), (8000,))"
      ]
     },
     "execution_count": 47,
     "metadata": {},
     "output_type": "execute_result"
    }
   ],
   "source": [
    "# Check train\n",
    "X_train_final.shape, y_train.shape"
   ]
  },
  {
   "cell_type": "code",
   "execution_count": 48,
   "metadata": {},
   "outputs": [
    {
     "data": {
      "text/plain": [
       "((2000, 11), (2000,))"
      ]
     },
     "execution_count": 48,
     "metadata": {},
     "output_type": "execute_result"
    }
   ],
   "source": [
    "# Check test\n",
    "X_test_final.shape, y_test.shape"
   ]
  },
  {
   "cell_type": "markdown",
   "metadata": {},
   "source": [
    "# Deal with imbalanced dataset"
   ]
  },
  {
   "cell_type": "code",
   "execution_count": 49,
   "metadata": {},
   "outputs": [],
   "source": [
    "# 2. Using SMOTE for over sampling\n",
    "over = SMOTE(k_neighbors=5, sampling_strategy=0.7, random_state=45)\n",
    "X_train_final_resampled, y_train_resampled = over.fit_resample(X_train_final, y_train)"
   ]
  },
  {
   "cell_type": "code",
   "execution_count": 50,
   "metadata": {},
   "outputs": [],
   "source": [
    "# Create fodler for the models\n",
    "MODELS_FOLDER_PATH = os.path.join(os.getcwd(), '..', 'models')\n",
    "os.makedirs(MODELS_FOLDER_PATH, exist_ok=True)"
   ]
  },
  {
   "cell_type": "code",
   "execution_count": 51,
   "metadata": {},
   "outputs": [
    {
     "data": {
      "text/plain": [
       "['c:\\\\Users\\\\KARIM\\\\Downloads\\\\Churn-Modelling\\\\notebook\\\\..\\\\models\\\\preprocessor.pkl']"
      ]
     },
     "execution_count": 51,
     "metadata": {},
     "output_type": "execute_result"
    }
   ],
   "source": [
    "# dump the preprocessor\n",
    "joblib.dump(preprocessor, os.path.join(MODELS_FOLDER_PATH, 'preprocessor.pkl'))"
   ]
  },
  {
   "cell_type": "markdown",
   "metadata": {},
   "source": [
    "# Building Models"
   ]
  },
  {
   "cell_type": "markdown",
   "metadata": {},
   "source": [
    "## logistic regression "
   ]
  },
  {
   "cell_type": "code",
   "execution_count": 52,
   "metadata": {},
   "outputs": [
    {
     "name": "stdout",
     "output_type": "stream",
     "text": [
      "The f1_score using Logistic model for Training Dataset is 32.437\n",
      "The f1_score using Logistic model for Testing Dataset is 30.631\n"
     ]
    }
   ],
   "source": [
    "# 1. Using logisit -- without considering the imabalancing data\n",
    "log_clf = LogisticRegression(C=1.5)\n",
    "log_clf.fit(X_train_final, y_train)\n",
    "\n",
    "# Predict and evaluate\n",
    "y_pred_train_log = log_clf.predict(X_train_final)\n",
    "y_pred_test_log = log_clf.predict(X_test_final)\n",
    "\n",
    "# Using f1_score\n",
    "score_train_log = f1_score(y_train, y_pred_train_log)\n",
    "score_test_log = f1_score(y_test, y_pred_test_log)\n",
    "\n",
    "\n",
    "print(f'The f1_score using Logistic model for Training Dataset is {score_train_log*100:.3f}')\n",
    "print(f'The f1_score using Logistic model for Testing Dataset is {score_test_log*100:.3f}')"
   ]
  },
  {
   "cell_type": "code",
   "execution_count": 53,
   "metadata": {},
   "outputs": [
    {
     "name": "stdout",
     "output_type": "stream",
     "text": [
      "The f1_score using Logistic model for Training Dataset is 50.077\n",
      "The f1_score using Logistic model for Testing Dataset is 48.213\n"
     ]
    }
   ],
   "source": [
    "log_clf = LogisticRegression(class_weight='balanced')\n",
    "log_clf.fit(X_train_final, y_train)\n",
    "\n",
    "# Predict and evaluate\n",
    "y_pred_train_log = log_clf.predict(X_train_final)\n",
    "y_pred_test_log = log_clf.predict(X_test_final)\n",
    "\n",
    "# Using f1_score\n",
    "score_train_log = f1_score(y_train, y_pred_train_log)\n",
    "score_test_log = f1_score(y_test, y_pred_test_log)\n",
    "\n",
    "\n",
    "print(f'The f1_score using Logistic model for Training Dataset is {score_train_log*100:.3f}')\n",
    "print(f'The f1_score using Logistic model for Testing Dataset is {score_test_log*100:.3f}')"
   ]
  },
  {
   "cell_type": "code",
   "execution_count": 54,
   "metadata": {},
   "outputs": [
    {
     "name": "stdout",
     "output_type": "stream",
     "text": [
      "The f1_score using Logistic model for Training Dataset with SMOTE is 49.537\n",
      "The f1_score using Logistic model for Testing Dataset with SMOTE is 49.064\n"
     ]
    }
   ],
   "source": [
    "# 3. Using logisit -- with considering the imabalancing data using oversampled data (SMOTE)\n",
    "log_clf = LogisticRegression(C=1.5)\n",
    "log_clf.fit(X_train_final_resampled, y_train_resampled)\n",
    "\n",
    "# Predict and evaluate\n",
    "y_pred_train_log = log_clf.predict(X_train_final)\n",
    "y_pred_test_log = log_clf.predict(X_test_final)\n",
    "\n",
    "# Using f1_score\n",
    "score_train_log = f1_score(y_train, y_pred_train_log)\n",
    "score_test_log = f1_score(y_test, y_pred_test_log)\n",
    "\n",
    "print(f'The f1_score using Logistic model for Training Dataset with SMOTE is {score_train_log*100:.3f}')\n",
    "print(f'The f1_score using Logistic model for Testing Dataset with SMOTE is {score_test_log*100:.3f}')"
   ]
  },
  {
   "cell_type": "code",
   "execution_count": 55,
   "metadata": {},
   "outputs": [
    {
     "data": {
      "text/plain": [
       "<Axes: >"
      ]
     },
     "execution_count": 55,
     "metadata": {},
     "output_type": "execute_result"
    },
    {
     "data": {
      "image/png": "[encoded data removed]",
      "text/plain": [
       "<Figure size 640x480 with 1 Axes>"
      ]
     },
     "metadata": {},
     "output_type": "display_data"
    }
   ],
   "source": [
    "sns.heatmap(confusion_matrix(y_true=y_test, y_pred=y_pred_test_log), cmap='Blues', cbar=False, annot=True, fmt='.2f')"
   ]
  },
  {
   "cell_type": "code",
   "execution_count": 56,
   "metadata": {},
   "outputs": [
    {
     "name": "stdout",
     "output_type": "stream",
     "text": [
      "              precision    recall  f1-score   support\n",
      "\n",
      "           0       0.88      0.80      0.84      1593\n",
      "           1       0.43      0.58      0.49       407\n",
      "\n",
      "    accuracy                           0.76      2000\n",
      "   macro avg       0.65      0.69      0.66      2000\n",
      "weighted avg       0.79      0.76      0.77      2000\n",
      "\n"
     ]
    }
   ],
   "source": [
    "# clf report\n",
    "print(classification_report(y_test, y_pred_test_log))"
   ]
  },
  {
   "cell_type": "markdown",
   "metadata": {},
   "source": [
    "# RandomForest"
   ]
  },
  {
   "cell_type": "code",
   "execution_count": 57,
   "metadata": {},
   "outputs": [
    {
     "name": "stdout",
     "output_type": "stream",
     "text": [
      "The f1_score using RF model for Training Dataset with class_weights is 60.957\n",
      "The f1_score using RF model for Testing Dataset with class_weights is 58.740\n"
     ]
    }
   ],
   "source": [
    "# Using RF -- With class_weights\n",
    "forst_clf = RandomForestClassifier(n_estimators=150, max_depth=5, random_state=45, class_weight='balanced')\n",
    "forst_clf.fit(X_train_final, y_train)\n",
    "\n",
    "# Predict and evaluate\n",
    "y_pred_train_forest = forst_clf.predict(X_train_final)\n",
    "y_pred_test_foerst = forst_clf.predict(X_test_final)\n",
    "\n",
    "# Using f1_score\n",
    "score_train_forest = f1_score(y_train, y_pred_train_forest)\n",
    "score_test_forest = f1_score(y_test, y_pred_test_foerst)\n",
    "\n",
    "print(f'The f1_score using RF model for Training Dataset with class_weights is {score_train_forest*100:.3f}')\n",
    "print(f'The f1_score using RF model for Testing Dataset with class_weights is {score_test_forest*100:.3f}')"
   ]
  },
  {
   "cell_type": "code",
   "execution_count": 58,
   "metadata": {},
   "outputs": [
    {
     "name": "stdout",
     "output_type": "stream",
     "text": [
      "The f1_score using RF model for Training Dataset with SMOTE is 62.228\n",
      "The f1_score using RF model for Testing Dataset with SMOTE is 57.143\n"
     ]
    }
   ],
   "source": [
    "# Using RF -- With SMOTE\n",
    "forst_clf = RandomForestClassifier(n_estimators=150, max_depth=5, random_state=45)\n",
    "forst_clf.fit(X_train_final_resampled, y_train_resampled)\n",
    "\n",
    "# Predict and evaluate\n",
    "y_pred_train_forest = forst_clf.predict(X_train_final)\n",
    "y_pred_test_foerst = forst_clf.predict(X_test_final)\n",
    "\n",
    "# Using f1_score\n",
    "score_train_forest = f1_score(y_train, y_pred_train_forest)\n",
    "score_test_forest = f1_score(y_test, y_pred_test_foerst)\n",
    "\n",
    "print(f'The f1_score using RF model for Training Dataset with SMOTE is {score_train_forest*100:.3f}')\n",
    "print(f'The f1_score using RF model for Testing Dataset with SMOTE is {score_test_forest*100:.3f}')"
   ]
  },
  {
   "cell_type": "code",
   "execution_count": 59,
   "metadata": {},
   "outputs": [
    {
     "name": "stdout",
     "output_type": "stream",
     "text": [
      "Fitting 5 folds for each of 14 candidates, totalling 70 fits\n",
      "[CV 1/5] END ......max_depth=6, n_estimators=50;, score=0.629 total time=   0.2s\n",
      "[CV 2/5] END ......max_depth=6, n_estimators=50;, score=0.584 total time=   0.2s\n",
      "[CV 3/5] END ......max_depth=6, n_estimators=50;, score=0.601 total time=   0.2s\n",
      "[CV 4/5] END ......max_depth=6, n_estimators=50;, score=0.611 total time=   0.2s\n",
      "[CV 5/5] END ......max_depth=6, n_estimators=50;, score=0.565 total time=   0.2s\n",
      "[CV 1/5] END .....max_depth=6, n_estimators=100;, score=0.630 total time=   0.4s\n",
      "[CV 2/5] END .....max_depth=6, n_estimators=100;, score=0.580 total time=   0.4s\n",
      "[CV 3/5] END .....max_depth=6, n_estimators=100;, score=0.603 total time=   0.4s\n",
      "[CV 4/5] END .....max_depth=6, n_estimators=100;, score=0.617 total time=   0.5s\n",
      "[CV 5/5] END .....max_depth=6, n_estimators=100;, score=0.567 total time=   0.5s\n",
      "[CV 1/5] END .....max_depth=6, n_estimators=150;, score=0.644 total time=   0.8s\n",
      "[CV 2/5] END .....max_depth=6, n_estimators=150;, score=0.581 total time=   0.9s\n",
      "[CV 3/5] END .....max_depth=6, n_estimators=150;, score=0.595 total time=   0.8s\n",
      "[CV 4/5] END .....max_depth=6, n_estimators=150;, score=0.623 total time=   0.7s\n",
      "[CV 5/5] END .....max_depth=6, n_estimators=150;, score=0.569 total time=   0.7s\n",
      "[CV 1/5] END .....max_depth=6, n_estimators=200;, score=0.638 total time=   1.0s\n",
      "[CV 2/5] END .....max_depth=6, n_estimators=200;, score=0.578 total time=   1.2s\n",
      "[CV 3/5] END .....max_depth=6, n_estimators=200;, score=0.597 total time=   1.1s\n",
      "[CV 4/5] END .....max_depth=6, n_estimators=200;, score=0.616 total time=   1.0s\n",
      "[CV 5/5] END .....max_depth=6, n_estimators=200;, score=0.565 total time=   1.1s\n",
      "[CV 1/5] END .....max_depth=6, n_estimators=250;, score=0.633 total time=   1.4s\n",
      "[CV 2/5] END .....max_depth=6, n_estimators=250;, score=0.577 total time=   1.3s\n",
      "[CV 3/5] END .....max_depth=6, n_estimators=250;, score=0.596 total time=   1.5s\n",
      "[CV 4/5] END .....max_depth=6, n_estimators=250;, score=0.619 total time=   1.3s\n",
      "[CV 5/5] END .....max_depth=6, n_estimators=250;, score=0.567 total time=   1.2s\n",
      "[CV 1/5] END .....max_depth=6, n_estimators=300;, score=0.639 total time=   1.7s\n",
      "[CV 2/5] END .....max_depth=6, n_estimators=300;, score=0.577 total time=   1.7s\n",
      "[CV 3/5] END .....max_depth=6, n_estimators=300;, score=0.597 total time=   1.6s\n",
      "[CV 4/5] END .....max_depth=6, n_estimators=300;, score=0.619 total time=   1.4s\n",
      "[CV 5/5] END .....max_depth=6, n_estimators=300;, score=0.566 total time=   1.8s\n",
      "[CV 1/5] END .....max_depth=6, n_estimators=350;, score=0.641 total time=   1.8s\n",
      "[CV 2/5] END .....max_depth=6, n_estimators=350;, score=0.579 total time=   2.0s\n",
      "[CV 3/5] END .....max_depth=6, n_estimators=350;, score=0.600 total time=   1.8s\n",
      "[CV 4/5] END .....max_depth=6, n_estimators=350;, score=0.621 total time=   2.4s\n",
      "[CV 5/5] END .....max_depth=6, n_estimators=350;, score=0.568 total time=   2.0s\n",
      "[CV 1/5] END ......max_depth=8, n_estimators=50;, score=0.659 total time=   0.2s\n",
      "[CV 2/5] END ......max_depth=8, n_estimators=50;, score=0.603 total time=   0.3s\n",
      "[CV 3/5] END ......max_depth=8, n_estimators=50;, score=0.609 total time=   0.3s\n",
      "[CV 4/5] END ......max_depth=8, n_estimators=50;, score=0.636 total time=   0.3s\n",
      "[CV 5/5] END ......max_depth=8, n_estimators=50;, score=0.582 total time=   0.3s\n",
      "[CV 1/5] END .....max_depth=8, n_estimators=100;, score=0.647 total time=   0.7s\n",
      "[CV 2/5] END .....max_depth=8, n_estimators=100;, score=0.600 total time=   0.6s\n",
      "[CV 3/5] END .....max_depth=8, n_estimators=100;, score=0.607 total time=   0.5s\n",
      "[CV 4/5] END .....max_depth=8, n_estimators=100;, score=0.630 total time=   0.5s\n",
      "[CV 5/5] END .....max_depth=8, n_estimators=100;, score=0.575 total time=   0.6s\n",
      "[CV 1/5] END .....max_depth=8, n_estimators=150;, score=0.650 total time=   1.0s\n",
      "[CV 2/5] END .....max_depth=8, n_estimators=150;, score=0.599 total time=   1.0s\n",
      "[CV 3/5] END .....max_depth=8, n_estimators=150;, score=0.610 total time=   0.8s\n",
      "[CV 4/5] END .....max_depth=8, n_estimators=150;, score=0.637 total time=   0.9s\n",
      "[CV 5/5] END .....max_depth=8, n_estimators=150;, score=0.573 total time=   0.9s\n",
      "[CV 1/5] END .....max_depth=8, n_estimators=200;, score=0.647 total time=   1.2s\n",
      "[CV 2/5] END .....max_depth=8, n_estimators=200;, score=0.598 total time=   1.3s\n",
      "[CV 3/5] END .....max_depth=8, n_estimators=200;, score=0.606 total time=   1.3s\n",
      "[CV 4/5] END .....max_depth=8, n_estimators=200;, score=0.636 total time=   1.2s\n",
      "[CV 5/5] END .....max_depth=8, n_estimators=200;, score=0.573 total time=   1.3s\n",
      "[CV 1/5] END .....max_depth=8, n_estimators=250;, score=0.648 total time=   1.6s\n",
      "[CV 2/5] END .....max_depth=8, n_estimators=250;, score=0.600 total time=   1.5s\n",
      "[CV 3/5] END .....max_depth=8, n_estimators=250;, score=0.609 total time=   1.7s\n",
      "[CV 4/5] END .....max_depth=8, n_estimators=250;, score=0.636 total time=   1.6s\n",
      "[CV 5/5] END .....max_depth=8, n_estimators=250;, score=0.570 total time=   1.4s\n",
      "[CV 1/5] END .....max_depth=8, n_estimators=300;, score=0.646 total time=   2.1s\n",
      "[CV 2/5] END .....max_depth=8, n_estimators=300;, score=0.595 total time=   1.8s\n",
      "[CV 3/5] END .....max_depth=8, n_estimators=300;, score=0.613 total time=   2.2s\n",
      "[CV 4/5] END .....max_depth=8, n_estimators=300;, score=0.641 total time=   1.8s\n",
      "[CV 5/5] END .....max_depth=8, n_estimators=300;, score=0.576 total time=   2.1s\n",
      "[CV 1/5] END .....max_depth=8, n_estimators=350;, score=0.649 total time=   2.3s\n",
      "[CV 2/5] END .....max_depth=8, n_estimators=350;, score=0.600 total time=   2.3s\n",
      "[CV 3/5] END .....max_depth=8, n_estimators=350;, score=0.609 total time=   2.3s\n",
      "[CV 4/5] END .....max_depth=8, n_estimators=350;, score=0.635 total time=   2.2s\n",
      "[CV 5/5] END .....max_depth=8, n_estimators=350;, score=0.576 total time=   2.3s\n"
     ]
    },
    {
     "data": {
      "text/html": [
       "<style>#sk-container-id-2 {\n",
       "  /* Definition of color scheme common for light and dark mode */\n",
       "  --sklearn-color-text: #000;\n",
       "  --sklearn-color-text-muted: #666;\n",
       "  --sklearn-color-line: gray;\n",
       "  /* Definition of color scheme for unfitted estimators */\n",
       "  --sklearn-color-unfitted-level-0: #fff5e6;\n",
       "  --sklearn-color-unfitted-level-1: #f6e4d2;\n",
       "  --sklearn-color-unfitted-level-2: #ffe0b3;\n",
       "  --sklearn-color-unfitted-level-3: chocolate;\n",
       "  /* Definition of color scheme for fitted estimators */\n",
       "  --sklearn-color-fitted-level-0: #f0f8ff;\n",
       "  --sklearn-color-fitted-level-1: #d4ebff;\n",
       "  --sklearn-color-fitted-level-2: #b3dbfd;\n",
       "  --sklearn-color-fitted-level-3: cornflowerblue;\n",
       "\n",
       "  /* Specific color for light theme */\n",
       "  --sklearn-color-text-on-default-background: var(--sg-text-color, var(--theme-code-foreground, var(--jp-content-font-color1, black)));\n",
       "  --sklearn-color-background: var(--sg-background-color, var(--theme-background, var(--jp-layout-color0, white)));\n",
       "  --sklearn-color-border-box: var(--sg-text-color, var(--theme-code-foreground, var(--jp-content-font-color1, black)));\n",
       "  --sklearn-color-icon: #696969;\n",
       "\n",
       "  @media (prefers-color-scheme: dark) {\n",
       "    /* Redefinition of color scheme for dark theme */\n",
       "    --sklearn-color-text-on-default-background: var(--sg-text-color, var(--theme-code-foreground, var(--jp-content-font-color1, white)));\n",
       "    --sklearn-color-background: var(--sg-background-color, var(--theme-background, var(--jp-layout-color0, #111)));\n",
       "    --sklearn-color-border-box: var(--sg-text-color, var(--theme-code-foreground, var(--jp-content-font-color1, white)));\n",
       "    --sklearn-color-icon: #878787;\n",
       "  }\n",
       "}\n",
       "\n",
       "#sk-container-id-2 {\n",
       "  color: var(--sklearn-color-text);\n",
       "}\n",
       "\n",
       "#sk-container-id-2 pre {\n",
       "  padding: 0;\n",
       "}\n",
       "\n",
       "#sk-container-id-2 input.sk-hidden--visually {\n",
       "  border: 0;\n",
       "  clip: rect(1px 1px 1px 1px);\n",
       "  clip: rect(1px, 1px, 1px, 1px);\n",
       "  height: 1px;\n",
       "  margin: -1px;\n",
       "  overflow: hidden;\n",
       "  padding: 0;\n",
       "  position: absolute;\n",
       "  width: 1px;\n",
       "}\n",
       "\n",
       "#sk-container-id-2 div.sk-dashed-wrapped {\n",
       "  border: 1px dashed var(--sklearn-color-line);\n",
       "  margin: 0 0.4em 0.5em 0.4em;\n",
       "  box-sizing: border-box;\n",
       "  padding-bottom: 0.4em;\n",
       "  background-color: var(--sklearn-color-background);\n",
       "}\n",
       "\n",
       "#sk-container-id-2 div.sk-container {\n",
       "  /* jupyter's `normalize.less` sets `[hidden] { display: none; }`\n",
       "     but bootstrap.min.css set `[hidden] { display: none !important; }`\n",
       "     so we also need the `!important` here to be able to override the\n",
       "     default hidden behavior on the sphinx rendered scikit-learn.org.\n",
       "     See: https://github.com/scikit-learn/scikit-learn/issues/21755 */\n",
       "  display: inline-block !important;\n",
       "  position: relative;\n",
       "}\n",
       "\n",
       "#sk-container-id-2 div.sk-text-repr-fallback {\n",
       "  display: none;\n",
       "}\n",
       "\n",
       "div.sk-parallel-item,\n",
       "div.sk-serial,\n",
       "div.sk-item {\n",
       "  /* draw centered vertical line to link estimators */\n",
       "  background-image: linear-gradient(var(--sklearn-color-text-on-default-background), var(--sklearn-color-text-on-default-background));\n",
       "  background-size: 2px 100%;\n",
       "  background-repeat: no-repeat;\n",
       "  background-position: center center;\n",
       "}\n",
       "\n",
       "/* Parallel-specific style estimator block */\n",
       "\n",
       "#sk-container-id-2 div.sk-parallel-item::after {\n",
       "  content: \"\";\n",
       "  width: 100%;\n",
       "  border-bottom: 2px solid var(--sklearn-color-text-on-default-background);\n",
       "  flex-grow: 1;\n",
       "}\n",
       "\n",
       "#sk-container-id-2 div.sk-parallel {\n",
       "  display: flex;\n",
       "  align-items: stretch;\n",
       "  justify-content: center;\n",
       "  background-color: var(--sklearn-color-background);\n",
       "  position: relative;\n",
       "}\n",
       "\n",
       "#sk-container-id-2 div.sk-parallel-item {\n",
       "  display: flex;\n",
       "  flex-direction: column;\n",
       "}\n",
       "\n",
       "#sk-container-id-2 div.sk-parallel-item:first-child::after {\n",
       "  align-self: flex-end;\n",
       "  width: 50%;\n",
       "}\n",
       "\n",
       "#sk-container-id-2 div.sk-parallel-item:last-child::after {\n",
       "  align-self: flex-start;\n",
       "  width: 50%;\n",
       "}\n",
       "\n",
       "#sk-container-id-2 div.sk-parallel-item:only-child::after {\n",
       "  width: 0;\n",
       "}\n",
       "\n",
       "/* Serial-specific style estimator block */\n",
       "\n",
       "#sk-container-id-2 div.sk-serial {\n",
       "  display: flex;\n",
       "  flex-direction: column;\n",
       "  align-items: center;\n",
       "  background-color: var(--sklearn-color-background);\n",
       "  padding-right: 1em;\n",
       "  padding-left: 1em;\n",
       "}\n",
       "\n",
       "\n",
       "/* Toggleable style: style used for estimator/Pipeline/ColumnTransformer box that is\n",
       "clickable and can be expanded/collapsed.\n",
       "- Pipeline and ColumnTransformer use this feature and define the default style\n",
       "- Estimators will overwrite some part of the style using the `sk-estimator` class\n",
       "*/\n",
       "\n",
       "/* Pipeline and ColumnTransformer style (default) */\n",
       "\n",
       "#sk-container-id-2 div.sk-toggleable {\n",
       "  /* Default theme specific background. It is overwritten whether we have a\n",
       "  specific estimator or a Pipeline/ColumnTransformer */\n",
       "  background-color: var(--sklearn-color-background);\n",
       "}\n",
       "\n",
       "/* Toggleable label */\n",
       "#sk-container-id-2 label.sk-toggleable__label {\n",
       "  cursor: pointer;\n",
       "  display: flex;\n",
       "  width: 100%;\n",
       "  margin-bottom: 0;\n",
       "  padding: 0.5em;\n",
       "  box-sizing: border-box;\n",
       "  text-align: center;\n",
       "  align-items: start;\n",
       "  justify-content: space-between;\n",
       "  gap: 0.5em;\n",
       "}\n",
       "\n",
       "#sk-container-id-2 label.sk-toggleable__label .caption {\n",
       "  font-size: 0.6rem;\n",
       "  font-weight: lighter;\n",
       "  color: var(--sklearn-color-text-muted);\n",
       "}\n",
       "\n",
       "#sk-container-id-2 label.sk-toggleable__label-arrow:before {\n",
       "  /* Arrow on the left of the label */\n",
       "  content: \"▸\";\n",
       "  float: left;\n",
       "  margin-right: 0.25em;\n",
       "  color: var(--sklearn-color-icon);\n",
       "}\n",
       "\n",
       "#sk-container-id-2 label.sk-toggleable__label-arrow:hover:before {\n",
       "  color: var(--sklearn-color-text);\n",
       "}\n",
       "\n",
       "/* Toggleable content - dropdown */\n",
       "\n",
       "#sk-container-id-2 div.sk-toggleable__content {\n",
       "  max-height: 0;\n",
       "  max-width: 0;\n",
       "  overflow: hidden;\n",
       "  text-align: left;\n",
       "  /* unfitted */\n",
       "  background-color: var(--sklearn-color-unfitted-level-0);\n",
       "}\n",
       "\n",
       "#sk-container-id-2 div.sk-toggleable__content.fitted {\n",
       "  /* fitted */\n",
       "  background-color: var(--sklearn-color-fitted-level-0);\n",
       "}\n",
       "\n",
       "#sk-container-id-2 div.sk-toggleable__content pre {\n",
       "  margin: 0.2em;\n",
       "  border-radius: 0.25em;\n",
       "  color: var(--sklearn-color-text);\n",
       "  /* unfitted */\n",
       "  background-color: var(--sklearn-color-unfitted-level-0);\n",
       "}\n",
       "\n",
       "#sk-container-id-2 div.sk-toggleable__content.fitted pre {\n",
       "  /* unfitted */\n",
       "  background-color: var(--sklearn-color-fitted-level-0);\n",
       "}\n",
       "\n",
       "#sk-container-id-2 input.sk-toggleable__control:checked~div.sk-toggleable__content {\n",
       "  /* Expand drop-down */\n",
       "  max-height: 200px;\n",
       "  max-width: 100%;\n",
       "  overflow: auto;\n",
       "}\n",
       "\n",
       "#sk-container-id-2 input.sk-toggleable__control:checked~label.sk-toggleable__label-arrow:before {\n",
       "  content: \"▾\";\n",
       "}\n",
       "\n",
       "/* Pipeline/ColumnTransformer-specific style */\n",
       "\n",
       "#sk-container-id-2 div.sk-label input.sk-toggleable__control:checked~label.sk-toggleable__label {\n",
       "  color: var(--sklearn-color-text);\n",
       "  background-color: var(--sklearn-color-unfitted-level-2);\n",
       "}\n",
       "\n",
       "#sk-container-id-2 div.sk-label.fitted input.sk-toggleable__control:checked~label.sk-toggleable__label {\n",
       "  background-color: var(--sklearn-color-fitted-level-2);\n",
       "}\n",
       "\n",
       "/* Estimator-specific style */\n",
       "\n",
       "/* Colorize estimator box */\n",
       "#sk-container-id-2 div.sk-estimator input.sk-toggleable__control:checked~label.sk-toggleable__label {\n",
       "  /* unfitted */\n",
       "  background-color: var(--sklearn-color-unfitted-level-2);\n",
       "}\n",
       "\n",
       "#sk-container-id-2 div.sk-estimator.fitted input.sk-toggleable__control:checked~label.sk-toggleable__label {\n",
       "  /* fitted */\n",
       "  background-color: var(--sklearn-color-fitted-level-2);\n",
       "}\n",
       "\n",
       "#sk-container-id-2 div.sk-label label.sk-toggleable__label,\n",
       "#sk-container-id-2 div.sk-label label {\n",
       "  /* The background is the default theme color */\n",
       "  color: var(--sklearn-color-text-on-default-background);\n",
       "}\n",
       "\n",
       "/* On hover, darken the color of the background */\n",
       "#sk-container-id-2 div.sk-label:hover label.sk-toggleable__label {\n",
       "  color: var(--sklearn-color-text);\n",
       "  background-color: var(--sklearn-color-unfitted-level-2);\n",
       "}\n",
       "\n",
       "/* Label box, darken color on hover, fitted */\n",
       "#sk-container-id-2 div.sk-label.fitted:hover label.sk-toggleable__label.fitted {\n",
       "  color: var(--sklearn-color-text);\n",
       "  background-color: var(--sklearn-color-fitted-level-2);\n",
       "}\n",
       "\n",
       "/* Estimator label */\n",
       "\n",
       "#sk-container-id-2 div.sk-label label {\n",
       "  font-family: monospace;\n",
       "  font-weight: bold;\n",
       "  display: inline-block;\n",
       "  line-height: 1.2em;\n",
       "}\n",
       "\n",
       "#sk-container-id-2 div.sk-label-container {\n",
       "  text-align: center;\n",
       "}\n",
       "\n",
       "/* Estimator-specific */\n",
       "#sk-container-id-2 div.sk-estimator {\n",
       "  font-family: monospace;\n",
       "  border: 1px dotted var(--sklearn-color-border-box);\n",
       "  border-radius: 0.25em;\n",
       "  box-sizing: border-box;\n",
       "  margin-bottom: 0.5em;\n",
       "  /* unfitted */\n",
       "  background-color: var(--sklearn-color-unfitted-level-0);\n",
       "}\n",
       "\n",
       "#sk-container-id-2 div.sk-estimator.fitted {\n",
       "  /* fitted */\n",
       "  background-color: var(--sklearn-color-fitted-level-0);\n",
       "}\n",
       "\n",
       "/* on hover */\n",
       "#sk-container-id-2 div.sk-estimator:hover {\n",
       "  /* unfitted */\n",
       "  background-color: var(--sklearn-color-unfitted-level-2);\n",
       "}\n",
       "\n",
       "#sk-container-id-2 div.sk-estimator.fitted:hover {\n",
       "  /* fitted */\n",
       "  background-color: var(--sklearn-color-fitted-level-2);\n",
       "}\n",
       "\n",
       "/* Specification for estimator info (e.g. \"i\" and \"?\") */\n",
       "\n",
       "/* Common style for \"i\" and \"?\" */\n",
       "\n",
       ".sk-estimator-doc-link,\n",
       "a:link.sk-estimator-doc-link,\n",
       "a:visited.sk-estimator-doc-link {\n",
       "  float: right;\n",
       "  font-size: smaller;\n",
       "  line-height: 1em;\n",
       "  font-family: monospace;\n",
       "  background-color: var(--sklearn-color-background);\n",
       "  border-radius: 1em;\n",
       "  height: 1em;\n",
       "  width: 1em;\n",
       "  text-decoration: none !important;\n",
       "  margin-left: 0.5em;\n",
       "  text-align: center;\n",
       "  /* unfitted */\n",
       "  border: var(--sklearn-color-unfitted-level-1) 1pt solid;\n",
       "  color: var(--sklearn-color-unfitted-level-1);\n",
       "}\n",
       "\n",
       ".sk-estimator-doc-link.fitted,\n",
       "a:link.sk-estimator-doc-link.fitted,\n",
       "a:visited.sk-estimator-doc-link.fitted {\n",
       "  /* fitted */\n",
       "  border: var(--sklearn-color-fitted-level-1) 1pt solid;\n",
       "  color: var(--sklearn-color-fitted-level-1);\n",
       "}\n",
       "\n",
       "/* On hover */\n",
       "div.sk-estimator:hover .sk-estimator-doc-link:hover,\n",
       ".sk-estimator-doc-link:hover,\n",
       "div.sk-label-container:hover .sk-estimator-doc-link:hover,\n",
       ".sk-estimator-doc-link:hover {\n",
       "  /* unfitted */\n",
       "  background-color: var(--sklearn-color-unfitted-level-3);\n",
       "  color: var(--sklearn-color-background);\n",
       "  text-decoration: none;\n",
       "}\n",
       "\n",
       "div.sk-estimator.fitted:hover .sk-estimator-doc-link.fitted:hover,\n",
       ".sk-estimator-doc-link.fitted:hover,\n",
       "div.sk-label-container:hover .sk-estimator-doc-link.fitted:hover,\n",
       ".sk-estimator-doc-link.fitted:hover {\n",
       "  /* fitted */\n",
       "  background-color: var(--sklearn-color-fitted-level-3);\n",
       "  color: var(--sklearn-color-background);\n",
       "  text-decoration: none;\n",
       "}\n",
       "\n",
       "/* Span, style for the box shown on hovering the info icon */\n",
       ".sk-estimator-doc-link span {\n",
       "  display: none;\n",
       "  z-index: 9999;\n",
       "  position: relative;\n",
       "  font-weight: normal;\n",
       "  right: .2ex;\n",
       "  padding: .5ex;\n",
       "  margin: .5ex;\n",
       "  width: min-content;\n",
       "  min-width: 20ex;\n",
       "  max-width: 50ex;\n",
       "  color: var(--sklearn-color-text);\n",
       "  box-shadow: 2pt 2pt 4pt #999;\n",
       "  /* unfitted */\n",
       "  background: var(--sklearn-color-unfitted-level-0);\n",
       "  border: .5pt solid var(--sklearn-color-unfitted-level-3);\n",
       "}\n",
       "\n",
       ".sk-estimator-doc-link.fitted span {\n",
       "  /* fitted */\n",
       "  background: var(--sklearn-color-fitted-level-0);\n",
       "  border: var(--sklearn-color-fitted-level-3);\n",
       "}\n",
       "\n",
       ".sk-estimator-doc-link:hover span {\n",
       "  display: block;\n",
       "}\n",
       "\n",
       "/* \"?\"-specific style due to the `<a>` HTML tag */\n",
       "\n",
       "#sk-container-id-2 a.estimator_doc_link {\n",
       "  float: right;\n",
       "  font-size: 1rem;\n",
       "  line-height: 1em;\n",
       "  font-family: monospace;\n",
       "  background-color: var(--sklearn-color-background);\n",
       "  border-radius: 1rem;\n",
       "  height: 1rem;\n",
       "  width: 1rem;\n",
       "  text-decoration: none;\n",
       "  /* unfitted */\n",
       "  color: var(--sklearn-color-unfitted-level-1);\n",
       "  border: var(--sklearn-color-unfitted-level-1) 1pt solid;\n",
       "}\n",
       "\n",
       "#sk-container-id-2 a.estimator_doc_link.fitted {\n",
       "  /* fitted */\n",
       "  border: var(--sklearn-color-fitted-level-1) 1pt solid;\n",
       "  color: var(--sklearn-color-fitted-level-1);\n",
       "}\n",
       "\n",
       "/* On hover */\n",
       "#sk-container-id-2 a.estimator_doc_link:hover {\n",
       "  /* unfitted */\n",
       "  background-color: var(--sklearn-color-unfitted-level-3);\n",
       "  color: var(--sklearn-color-background);\n",
       "  text-decoration: none;\n",
       "}\n",
       "\n",
       "#sk-container-id-2 a.estimator_doc_link.fitted:hover {\n",
       "  /* fitted */\n",
       "  background-color: var(--sklearn-color-fitted-level-3);\n",
       "}\n",
       "</style><div id=\"sk-container-id-2\" class=\"sk-top-container\"><div class=\"sk-text-repr-fallback\"><pre>GridSearchCV(cv=5,\n",
       "             estimator=RandomForestClassifier(class_weight=&#x27;balanced&#x27;,\n",
       "                                              max_depth=5, n_estimators=150,\n",
       "                                              random_state=45),\n",
       "             n_jobs=1,\n",
       "             param_grid={&#x27;max_depth&#x27;: array([6, 8]),\n",
       "                         &#x27;n_estimators&#x27;: array([ 50, 100, 150, 200, 250, 300, 350])},\n",
       "             scoring=&#x27;f1&#x27;, verbose=4)</pre><b>In a Jupyter environment, please rerun this cell to show the HTML representation or trust the notebook. <br />On GitHub, the HTML representation is unable to render, please try loading this page with nbviewer.org.</b></div><div class=\"sk-container\" hidden><div class=\"sk-item sk-dashed-wrapped\"><div class=\"sk-label-container\"><div class=\"sk-label fitted sk-toggleable\"><input class=\"sk-toggleable__control sk-hidden--visually\" id=\"sk-estimator-id-4\" type=\"checkbox\" ><label for=\"sk-estimator-id-4\" class=\"sk-toggleable__label fitted sk-toggleable__label-arrow\"><div><div>GridSearchCV</div></div><div><a class=\"sk-estimator-doc-link fitted\" rel=\"noreferrer\" target=\"_blank\" href=\"https://scikit-learn.org/1.6/modules/generated/sklearn.model_selection.GridSearchCV.html\">?<span>Documentation for GridSearchCV</span></a><span class=\"sk-estimator-doc-link fitted\">i<span>Fitted</span></span></div></label><div class=\"sk-toggleable__content fitted\"><pre>GridSearchCV(cv=5,\n",
       "             estimator=RandomForestClassifier(class_weight=&#x27;balanced&#x27;,\n",
       "                                              max_depth=5, n_estimators=150,\n",
       "                                              random_state=45),\n",
       "             n_jobs=1,\n",
       "             param_grid={&#x27;max_depth&#x27;: array([6, 8]),\n",
       "                         &#x27;n_estimators&#x27;: array([ 50, 100, 150, 200, 250, 300, 350])},\n",
       "             scoring=&#x27;f1&#x27;, verbose=4)</pre></div> </div></div><div class=\"sk-parallel\"><div class=\"sk-parallel-item\"><div class=\"sk-item\"><div class=\"sk-label-container\"><div class=\"sk-label fitted sk-toggleable\"><input class=\"sk-toggleable__control sk-hidden--visually\" id=\"sk-estimator-id-5\" type=\"checkbox\" ><label for=\"sk-estimator-id-5\" class=\"sk-toggleable__label fitted sk-toggleable__label-arrow\"><div><div>best_estimator_: RandomForestClassifier</div></div></label><div class=\"sk-toggleable__content fitted\"><pre>RandomForestClassifier(class_weight=&#x27;balanced&#x27;, max_depth=8, n_estimators=50,\n",
       "                       random_state=45)</pre></div> </div></div><div class=\"sk-serial\"><div class=\"sk-item\"><div class=\"sk-estimator fitted sk-toggleable\"><input class=\"sk-toggleable__control sk-hidden--visually\" id=\"sk-estimator-id-6\" type=\"checkbox\" ><label for=\"sk-estimator-id-6\" class=\"sk-toggleable__label fitted sk-toggleable__label-arrow\"><div><div>RandomForestClassifier</div></div><div><a class=\"sk-estimator-doc-link fitted\" rel=\"noreferrer\" target=\"_blank\" href=\"https://scikit-learn.org/1.6/modules/generated/sklearn.ensemble.RandomForestClassifier.html\">?<span>Documentation for RandomForestClassifier</span></a></div></label><div class=\"sk-toggleable__content fitted\"><pre>RandomForestClassifier(class_weight=&#x27;balanced&#x27;, max_depth=8, n_estimators=50,\n",
       "                       random_state=45)</pre></div> </div></div></div></div></div></div></div></div></div>"
      ],
      "text/plain": [
       "GridSearchCV(cv=5,\n",
       "             estimator=RandomForestClassifier(class_weight='balanced',\n",
       "                                              max_depth=5, n_estimators=150,\n",
       "                                              random_state=45),\n",
       "             n_jobs=1,\n",
       "             param_grid={'max_depth': array([6, 8]),\n",
       "                         'n_estimators': array([ 50, 100, 150, 200, 250, 300, 350])},\n",
       "             scoring='f1', verbose=4)"
      ]
     },
     "execution_count": 59,
     "metadata": {},
     "output_type": "execute_result"
    }
   ],
   "source": [
    "forest_base_clf = RandomForestClassifier(n_estimators=150, max_depth=5, random_state=45, class_weight='balanced')\n",
    "\n",
    "# Your space to search\n",
    "params_best_grid = {\n",
    "            'n_estimators': np.arange(50, 400, 50),\n",
    "            'max_depth': np.arange(6, 10, 2)\n",
    "}\n",
    "\n",
    "grid_search_forest = GridSearchCV(estimator=forest_base_clf, param_grid=params_best_grid, \n",
    "                                  cv=5, n_jobs=1, verbose=4, scoring='f1')\n",
    "\n",
    "grid_search_forest.fit(X_train_final, y_train)"
   ]
  },
  {
   "cell_type": "code",
   "execution_count": 60,
   "metadata": {},
   "outputs": [
    {
     "data": {
      "text/plain": [
       "(0.6176898045354173, {'max_depth': 8, 'n_estimators': 50})"
      ]
     },
     "execution_count": 60,
     "metadata": {},
     "output_type": "execute_result"
    }
   ],
   "source": [
    "# The best score according to your scoring & The best combination of what you search in\n",
    "grid_search_forest.best_score_, grid_search_forest.best_params_"
   ]
  },
  {
   "cell_type": "code",
   "execution_count": 61,
   "metadata": {},
   "outputs": [
    {
     "name": "stdout",
     "output_type": "stream",
     "text": [
      "The f1_score using tuned RF model for Training Dataset with class_weigths is 68.962\n",
      "The f1_score using tuned RF model for Testing Dataset with class_weigths is 59.542\n"
     ]
    }
   ],
   "source": [
    "# The forest after tuning\n",
    "forest_tuned = grid_search_forest.best_estimator_\n",
    "\n",
    "# Predict and evaluate\n",
    "y_pred_train_forest_tuned = forest_tuned.predict(X_train_final)\n",
    "y_pred_test_forest_tuned = forest_tuned.predict(X_test_final)\n",
    "\n",
    "# Using f1_scorea\n",
    "score_train_forest_tuned = f1_score(y_train, y_pred_train_forest_tuned)\n",
    "score_test_forest_tuned = f1_score(y_test, y_pred_test_forest_tuned)\n",
    "\n",
    "print(f'The f1_score using tuned RF model for Training Dataset with class_weigths is {score_train_forest_tuned*100:.3f}')\n",
    "print(f'The f1_score using tuned RF model for Testing Dataset with class_weigths is {score_test_forest_tuned*100:.3f}')"
   ]
  },
  {
   "cell_type": "code",
   "execution_count": 62,
   "metadata": {},
   "outputs": [
    {
     "data": {
      "text/plain": [
       "['c:\\\\Users\\\\KARIM\\\\Downloads\\\\Churn-Modelling\\\\notebook\\\\..\\\\models\\\\forest_tuned.pkl']"
      ]
     },
     "execution_count": 62,
     "metadata": {},
     "output_type": "execute_result"
    }
   ],
   "source": [
    "# Downlaod it if you are satisifed with the above model\n",
    "joblib.dump(forest_tuned, os.path.join(MODELS_FOLDER_PATH, 'forest_tuned.pkl'))"
   ]
  },
  {
   "cell_type": "code",
   "execution_count": 63,
   "metadata": {},
   "outputs": [
    {
     "data": {
      "text/plain": [
       "['Age',\n",
       " 'CreditScore',\n",
       " 'Balance',\n",
       " 'EstimatedSalary',\n",
       " 'Gender_Male',\n",
       " 'Geography_Germany',\n",
       " 'Geography_Spain',\n",
       " 'NumOfProducts',\n",
       " 'Tenure',\n",
       " 'HasCrCard',\n",
       " 'IsActiveMember']"
      ]
     },
     "execution_count": 63,
     "metadata": {},
     "output_type": "execute_result"
    }
   ],
   "source": [
    "# Get the features out from the preprocessor\n",
    "features_after = [name.split('__')[1] for name in preprocessor.get_feature_names_out()]\n",
    "features_after"
   ]
  },
  {
   "cell_type": "code",
   "execution_count": 64,
   "metadata": {},
   "outputs": [
    {
     "data": {
      "text/html": [
       "<div>\n",
       "<style scoped>\n",
       "    .dataframe tbody tr th:only-of-type {\n",
       "        vertical-align: middle;\n",
       "    }\n",
       "\n",
       "    .dataframe tbody tr th {\n",
       "        vertical-align: top;\n",
       "    }\n",
       "\n",
       "    .dataframe thead th {\n",
       "        text-align: right;\n",
       "    }\n",
       "</style>\n",
       "<table border=\"1\" class=\"dataframe\">\n",
       "  <thead>\n",
       "    <tr style=\"text-align: right;\">\n",
       "      <th></th>\n",
       "      <th>feature</th>\n",
       "      <th>importance</th>\n",
       "    </tr>\n",
       "  </thead>\n",
       "  <tbody>\n",
       "    <tr>\n",
       "      <th>0</th>\n",
       "      <td>Age</td>\n",
       "      <td>0.384143</td>\n",
       "    </tr>\n",
       "    <tr>\n",
       "      <th>7</th>\n",
       "      <td>NumOfProducts</td>\n",
       "      <td>0.238632</td>\n",
       "    </tr>\n",
       "    <tr>\n",
       "      <th>2</th>\n",
       "      <td>Balance</td>\n",
       "      <td>0.088393</td>\n",
       "    </tr>\n",
       "    <tr>\n",
       "      <th>10</th>\n",
       "      <td>IsActiveMember</td>\n",
       "      <td>0.065250</td>\n",
       "    </tr>\n",
       "    <tr>\n",
       "      <th>5</th>\n",
       "      <td>Geography_Germany</td>\n",
       "      <td>0.053312</td>\n",
       "    </tr>\n",
       "    <tr>\n",
       "      <th>3</th>\n",
       "      <td>EstimatedSalary</td>\n",
       "      <td>0.050163</td>\n",
       "    </tr>\n",
       "    <tr>\n",
       "      <th>1</th>\n",
       "      <td>CreditScore</td>\n",
       "      <td>0.049542</td>\n",
       "    </tr>\n",
       "    <tr>\n",
       "      <th>4</th>\n",
       "      <td>Gender_Male</td>\n",
       "      <td>0.028793</td>\n",
       "    </tr>\n",
       "    <tr>\n",
       "      <th>8</th>\n",
       "      <td>Tenure</td>\n",
       "      <td>0.028659</td>\n",
       "    </tr>\n",
       "    <tr>\n",
       "      <th>6</th>\n",
       "      <td>Geography_Spain</td>\n",
       "      <td>0.006722</td>\n",
       "    </tr>\n",
       "    <tr>\n",
       "      <th>9</th>\n",
       "      <td>HasCrCard</td>\n",
       "      <td>0.006389</td>\n",
       "    </tr>\n",
       "  </tbody>\n",
       "</table>\n",
       "</div>"
      ],
      "text/plain": [
       "              feature  importance\n",
       "0                 Age    0.384143\n",
       "7       NumOfProducts    0.238632\n",
       "2             Balance    0.088393\n",
       "10     IsActiveMember    0.065250\n",
       "5   Geography_Germany    0.053312\n",
       "3     EstimatedSalary    0.050163\n",
       "1         CreditScore    0.049542\n",
       "4         Gender_Male    0.028793\n",
       "8              Tenure    0.028659\n",
       "6     Geography_Spain    0.006722\n",
       "9           HasCrCard    0.006389"
      ]
     },
     "execution_count": 64,
     "metadata": {},
     "output_type": "execute_result"
    }
   ],
   "source": [
    "# Feature Importance from RF\n",
    "forest_tuned_importance = pd.DataFrame({'feature': features_after, \n",
    "                              'importance': forest_tuned.feature_importances_}).sort_values('importance', ascending=False)\n",
    "forest_tuned_importance"
   ]
  },
  {
   "cell_type": "markdown",
   "metadata": {},
   "source": [
    "# XGBoost"
   ]
  },
  {
   "cell_type": "code",
   "execution_count": 65,
   "metadata": {},
   "outputs": [
    {
     "name": "stdout",
     "output_type": "stream",
     "text": [
      "The f1_score using XGBoost model for Training Dataset with scale is 69.259\n",
      "The f1_score using XGBoost model for Testing Dataset with scale is 59.403\n"
     ]
    }
   ],
   "source": [
    "xgb_base_model = xgb.XGBClassifier(objective='binary:logistic', max_depth=5, \n",
    "                                 learning_rate=0.1, n_estimators=150, random_state=42)\n",
    "xgb_base_model.fit(X_train_final, y_train)\n",
    "\n",
    "# Predict and evaluate\n",
    "y_pred_train_xgb = xgb_base_model.predict(X_train_final)\n",
    "y_pred_test_xgb = xgb_base_model.predict(X_test_final)\n",
    "\n",
    "# Using f1_score\n",
    "score_train_xgb = f1_score(y_train, y_pred_train_xgb)\n",
    "score_test_xgb = f1_score(y_test, y_pred_test_xgb)\n",
    "\n",
    "print(f'The f1_score using XGBoost model for Training Dataset with scale is {score_train_xgb*100:.3f}')\n",
    "print(f'The f1_score using XGBoost model for Testing Dataset with scale is {score_test_xgb*100:.3f}')"
   ]
  },
  {
   "cell_type": "code",
   "execution_count": 70,
   "metadata": {},
   "outputs": [
    {
     "data": {
      "text/plain": [
       "['c:\\\\Users\\\\KARIM\\\\Downloads\\\\Churn-Modelling\\\\notebook\\\\..\\\\models\\\\xgb_base_model.pkl']"
      ]
     },
     "execution_count": 70,
     "metadata": {},
     "output_type": "execute_result"
    }
   ],
   "source": [
    "# Dump model\n",
    "joblib.dump(xgb_base_model, os.path.join(MODELS_FOLDER_PATH, 'xgb_base_model.pkl'))"
   ]
  },
  {
   "cell_type": "code",
   "execution_count": null,
   "metadata": {},
   "outputs": [],
   "source": []
  }
 ],
 "metadata": {
  "kernelspec": {
   "display_name": "Python 3",
   "language": "python",
   "name": "python3"
  },
  "language_info": {
   "codemirror_mode": {
    "name": "ipython",
    "version": 3
   },
   "file_extension": ".py",
   "mimetype": "text/x-python",
   "name": "python",
   "nbconvert_exporter": "python",
   "pygments_lexer": "ipython3",
   "version": "3.12.3"
  }
 },
 "nbformat": 4,
 "nbformat_minor": 2
}
